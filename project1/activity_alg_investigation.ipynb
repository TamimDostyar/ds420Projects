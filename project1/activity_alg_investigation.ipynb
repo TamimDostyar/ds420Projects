{
 "cells": [
  {
   "cell_type": "markdown",
   "id": "ae0b859a",
   "metadata": {},
   "source": [
    "# Activity Dataset Preparation and Algorithm Investigation"
   ]
  },
  {
   "cell_type": "markdown",
   "id": "8c9ad8f9",
   "metadata": {},
   "source": [
    "#### Library"
   ]
  },
  {
   "cell_type": "code",
   "execution_count": 1,
   "id": "1581552e",
   "metadata": {},
   "outputs": [],
   "source": [
    "import warnings\n",
    "from sklearn.exceptions import ConvergenceWarning\n",
    "from sklearn.linear_model import SGDClassifier, LogisticRegression\n",
    "from sklearn.svm import LinearSVC\n",
    "from sklearn.neighbors import KNeighborsClassifier\n",
    "from sklearn.tree import DecisionTreeClassifier"
   ]
  },
  {
   "cell_type": "markdown",
   "id": "2fb8c97f",
   "metadata": {},
   "source": [
    "#### Load Helper Functions"
   ]
  },
  {
   "cell_type": "code",
   "execution_count": 1,
   "id": "0b404253",
   "metadata": {},
   "outputs": [],
   "source": [
    "%reset -f\n",
    "\n",
    "import importlib\n",
    "import activity_functions\n",
    "importlib.reload(activity_functions)\n",
    "from activity_functions import *"
   ]
  },
  {
   "cell_type": "markdown",
   "id": "0003db6c",
   "metadata": {},
   "source": [
    "## Preparation"
   ]
  },
  {
   "cell_type": "markdown",
   "id": "9b52f53c",
   "metadata": {},
   "source": [
    "#### Load Data"
   ]
  },
  {
   "cell_type": "code",
   "execution_count": 2,
   "id": "3729d0fa",
   "metadata": {},
   "outputs": [
    {
     "name": "stdout",
     "output_type": "stream",
     "text": [
      "Loaded from Kaggle: /Users/brookspeterson/.cache/kagglehub/datasets/diegosilvadefrana/fisical-activity-dataset/versions/4/dataset2.csv\n"
     ]
    }
   ],
   "source": [
    "activity = load_data()"
   ]
  },
  {
   "cell_type": "markdown",
   "id": "b1bd8147",
   "metadata": {},
   "source": [
    "#### Create Train and Test Sets"
   ]
  },
  {
   "cell_type": "code",
   "execution_count": 3,
   "id": "e0c2ed05",
   "metadata": {},
   "outputs": [],
   "source": [
    "train, test = create_train_test(activity, test_ratio=0.2)"
   ]
  },
  {
   "cell_type": "markdown",
   "id": "8452ee59",
   "metadata": {},
   "source": [
    "#### Prepare Data"
   ]
  },
  {
   "cell_type": "code",
   "execution_count": 4,
   "id": "77a13116",
   "metadata": {},
   "outputs": [],
   "source": [
    "X_train, y_train, X_test, y_test = prepare_for_train(train, test)"
   ]
  },
  {
   "cell_type": "markdown",
   "id": "81d3ae75",
   "metadata": {},
   "source": [
    "## Algorithm Investigation"
   ]
  },
  {
   "cell_type": "markdown",
   "id": "2faca44b",
   "metadata": {},
   "source": [
    "#### Train Models\n",
    "\n",
    "We will investigate the following 5 algorithms, which we selected for a diverse range of classification prediction. These algorithms include linear/non-linear and parametric/non-parametric methods. They should yield different results that will be interesting to compare and contrast.\n",
    "\n",
    "- SGDClassifier\n",
    "- LinearSVC\n",
    "- KNeighborsClassifier\n",
    "- LogisticRegression\n",
    "- DecisionTreeClassifier"
   ]
  },
  {
   "cell_type": "code",
   "execution_count": null,
   "id": "218ae588",
   "metadata": {},
   "outputs": [
    {
     "name": "stderr",
     "output_type": "stream",
     "text": [
      "/Users/brookspeterson/yes/envs/ds420/lib/python3.10/site-packages/sklearn/linear_model/_stochastic_gradient.py:726: ConvergenceWarning: Maximum number of iteration reached before convergence. Consider increasing max_iter to improve the fit.\n",
      "  warnings.warn(\n"
     ]
    }
   ],
   "source": [
    "# CHANGE MAX_ITER TO A SUITABLE AMOUNT\n",
    "\n",
    "warnings.filterwarnings(\"ignore\", category=ConvergenceWarning)\n",
    "warnings.filterwarnings(\"ignore\", category=UserWarning)\n",
    "\n",
    "SGD_model = SGDClassifier(max_iter=10, random_state=42)\n",
    "SGD_model.fit(X_train, y_train)\n",
    "\n",
    "LinearSVC_model = LinearSVC(max_iter=10, random_state=42)\n",
    "LinearSVC_model.fit(X_train, y_train)\n",
    "\n",
    "KNeighbors_model = KNeighborsClassifier()\n",
    "KNeighbors_model.fit(X_train, y_train)\n",
    "\n",
    "LogisticRegression_model = LogisticRegression(max_iter=10, random_state=42)\n",
    "LogisticRegression_model.fit(X_train, y_train)\n",
    "\n",
    "DecisionTree_model = DecisionTreeClassifier(random_state=42)\n",
    "DecisionTree_model.fit(X_train, y_train)"
   ]
  },
  {
   "cell_type": "markdown",
   "id": "86fb9510",
   "metadata": {},
   "source": [
    "#### Evaluate Models\n",
    "\n",
    "Now that our models are trained on the data, we can evaluate them using the following chosen metrics. These metrics will give us a good picture of each algorithm's success in predicting the activity types, and will be easy to compare across models.\n",
    "\n",
    "- Accuracy\n",
    "- F1 Score\n",
    "- Recall\n",
    "- Precision"
   ]
  },
  {
   "cell_type": "code",
   "execution_count": null,
   "id": "6818af93",
   "metadata": {},
   "outputs": [],
   "source": [
    "results = []\n",
    "\n",
    "models = {\n",
    "    'SGDClassifier': SGD_model,\n",
    "    'LinearSVC': LinearSVC_model,\n",
    "    'KNeighbors': KNeighbors_model,\n",
    "    'LogisticRegression': LogisticRegression_model,\n",
    "    'DecisionTree': DecisionTree_model,\n",
    "}\n",
    "\n",
    "for name, model in models.items():\n",
    "    y_test_hat = model.predict(X_test)\n",
    "    scores_df = compute_scores(y_test, y_test_hat)\n",
    "    scores_df['Model'] = name\n",
    "    results.append(scores_df)\n",
    "\n",
    "final_results = pd.concat(results, ignore_index=True)\n",
    "final_results = final_results[['Model', 'Accuracy', 'F1_Score', 'Recall', 'Precision']]\n",
    "print(final_results.to_string(index=False))"
   ]
  },
  {
   "cell_type": "markdown",
   "id": "408c3b90",
   "metadata": {},
   "source": [
    "[IN THIS CELL EXPLAIN WHICH TWO ALGORITHMS DID THE BEST AND NOTE THEM AS OUR SELECTION FOR THE NEXT STEP]"
   ]
  }
 ],
 "metadata": {
  "kernelspec": {
   "display_name": "ds420",
   "language": "python",
   "name": "python3"
  },
  "language_info": {
   "codemirror_mode": {
    "name": "ipython",
    "version": 3
   },
   "file_extension": ".py",
   "mimetype": "text/x-python",
   "name": "python",
   "nbconvert_exporter": "python",
   "pygments_lexer": "ipython3",
   "version": "3.10.18"
  }
 },
 "nbformat": 4,
 "nbformat_minor": 5
}
