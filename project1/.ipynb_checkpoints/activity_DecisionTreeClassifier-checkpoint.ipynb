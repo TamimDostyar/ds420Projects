{
 "cells": [
  {
   "cell_type": "markdown",
   "id": "d66f29ff",
   "metadata": {
    "id": "d66f29ff"
   },
   "source": [
    "# Activity Classification - DecisionTreeClassifier Training\n",
    "\n",
    "This notebook trains a DecisionTreeClassifier on the physical activity dataset using GridSearchCV for hyperparameter tuning.\n",
    "\n",
    "## Import Required Libraries"
   ]
  },
  {
   "cell_type": "code",
   "execution_count": 2,
   "id": "2459f344",
   "metadata": {},
   "outputs": [
    {
     "name": "stdout",
     "output_type": "stream",
     "text": [
      "Requirement already satisfied: kagglehub in /home/thuy/miniconda3/envs/ds420/lib/python3.10/site-packages (0.3.13)\n",
      "Requirement already satisfied: packaging in /home/thuy/miniconda3/envs/ds420/lib/python3.10/site-packages (from kagglehub) (25.0)\n",
      "Requirement already satisfied: pyyaml in /home/thuy/miniconda3/envs/ds420/lib/python3.10/site-packages (from kagglehub) (6.0.2)\n",
      "Requirement already satisfied: requests in /home/thuy/miniconda3/envs/ds420/lib/python3.10/site-packages (from kagglehub) (2.32.5)\n",
      "Requirement already satisfied: tqdm in /home/thuy/miniconda3/envs/ds420/lib/python3.10/site-packages (from kagglehub) (4.67.1)\n",
      "Requirement already satisfied: charset_normalizer<4,>=2 in /home/thuy/miniconda3/envs/ds420/lib/python3.10/site-packages (from requests->kagglehub) (3.3.2)\n",
      "Requirement already satisfied: idna<4,>=2.5 in /home/thuy/miniconda3/envs/ds420/lib/python3.10/site-packages (from requests->kagglehub) (3.7)\n",
      "Requirement already satisfied: urllib3<3,>=1.21.1 in /home/thuy/miniconda3/envs/ds420/lib/python3.10/site-packages (from requests->kagglehub) (2.5.0)\n",
      "Requirement already satisfied: certifi>=2017.4.17 in /home/thuy/miniconda3/envs/ds420/lib/python3.10/site-packages (from requests->kagglehub) (2025.10.5)\n"
     ]
    }
   ],
   "source": [
    "!python3 -m pip install kagglehub"
   ]
  },
  {
   "cell_type": "code",
   "execution_count": 3,
   "id": "d9509dc5",
   "metadata": {
    "id": "d9509dc5"
   },
   "outputs": [],
   "source": [
    "%reset -f\n",
    "\n",
    "import importlib\n",
    "\n",
    "import activity_functions\n",
    "importlib.reload(activity_functions)\n",
    "from activity_functions import *\n",
    "\n",
    "\n",
    "# this only works for google colab\n",
    "# import sys\n",
    "# sys.path.append('/content/drive/MyDrive/ds420Projects/project1')\n",
    "# from activity_functions import *"
   ]
  },
  {
   "cell_type": "code",
   "execution_count": 4,
   "id": "bc5dd216",
   "metadata": {
    "colab": {
     "base_uri": "https://localhost:8080/"
    },
    "id": "bc5dd216",
    "outputId": "8b1b4732-c359-417b-d548-b8db410c7065"
   },
   "outputs": [
    {
     "name": "stdout",
     "output_type": "stream",
     "text": [
      "Loaded from Kaggle: /home/thuy/.cache/kagglehub/datasets/diegosilvadefrana/fisical-activity-dataset/versions/4/dataset2.csv\n"
     ]
    }
   ],
   "source": [
    "activtity = load_data()"
   ]
  },
  {
   "cell_type": "code",
   "execution_count": 5,
   "id": "67f728e3",
   "metadata": {
    "colab": {
     "base_uri": "https://localhost:8080/"
    },
    "id": "67f728e3",
    "outputId": "c0efb420-37ab-4244-dfb1-5ca525b7149b"
   },
   "outputs": [
    {
     "name": "stdout",
     "output_type": "stream",
     "text": [
      "(2291244, 33)\n",
      "(572812, 33)\n"
     ]
    }
   ],
   "source": [
    "df_train, df_test = create_train_test(activtity, test_ratio=0.2)\n",
    "print(df_train.shape)\n",
    "print(df_test.shape)"
   ]
  },
  {
   "cell_type": "code",
   "execution_count": 6,
   "id": "95ccf126",
   "metadata": {
    "id": "95ccf126"
   },
   "outputs": [],
   "source": [
    "X_train, y_train, X_test, y_test = prepare_for_train(df_train, df_test)"
   ]
  },
  {
   "cell_type": "code",
   "execution_count": 7,
   "id": "C6Uj2g-fKsz0",
   "metadata": {
    "colab": {
     "base_uri": "https://localhost:8080/"
    },
    "id": "C6Uj2g-fKsz0",
    "outputId": "1b83ecd8-f123-462d-842d-7c94f6d6bf08"
   },
   "outputs": [
    {
     "name": "stdout",
     "output_type": "stream",
     "text": [
      "\n"
     ]
    },
    {
     "name": "stderr",
     "output_type": "stream",
     "text": [
      "WARNING: All log messages before absl::InitializeLog() is called are written to STDERR\n",
      "W0000 00:00:1761255101.367842    7306 gpu_device.cc:2342] Cannot dlopen some GPU libraries. Please make sure the missing libraries mentioned above are installed properly if you would like to use GPU. Follow the guide at https://www.tensorflow.org/install/gpu for how to download and setup the required libraries for your platform.\n",
      "Skipping registering GPU devices...\n"
     ]
    }
   ],
   "source": [
    "import tensorflow as tf\n",
    "print(tf.test.gpu_device_name())"
   ]
  },
  {
   "cell_type": "markdown",
   "id": "f9c6e2ac",
   "metadata": {},
   "source": [
    "## Hyperparameter Tuning with GridSearchCV"
   ]
  },
  {
   "cell_type": "code",
   "execution_count": 8,
   "id": "ecf152f7",
   "metadata": {
    "colab": {
     "base_uri": "https://localhost:8080/"
    },
    "id": "ecf152f7",
    "outputId": "42c35616-a0ad-49ef-da2b-f97220e8700c"
   },
   "outputs": [
    {
     "name": "stdout",
     "output_type": "stream",
     "text": [
      "Fitting 3 folds for each of 72 candidates, totalling 216 fits\n"
     ]
    }
   ],
   "source": [
    "from sklearn.tree import DecisionTreeClassifier\n",
    "from sklearn.model_selection import GridSearchCV\n",
    "import warnings\n",
    "warnings.filterwarnings(\"ignore\")\n",
    "\n",
    "def grid_searchCV(X, y):\n",
    "    model = DecisionTreeClassifier(\n",
    "        random_state=42\n",
    "    )\n",
    "    param = {\n",
    "        \"max_depth\": [None, 3, 5, 7],\n",
    "        \"min_samples_split\": [2, 5, 10],\n",
    "        \"min_samples_leaf\": [1, 2, 4],\n",
    "        \"criterion\": [\"gini\", \"entropy\"]\n",
    "    }\n",
    "\n",
    "    grid = GridSearchCV(\n",
    "        model,\n",
    "        param,\n",
    "        verbose=1,\n",
    "        refit=True,\n",
    "        cv=3,\n",
    "        scoring='accuracy',\n",
    "        n_jobs=-1,\n",
    "        return_train_score=True\n",
    "    )\n",
    "\n",
    "    grid.fit(X, y)\n",
    "    return grid\n",
    "best_model = grid_searchCV(X_train, y_train)"
   ]
  },
  {
   "cell_type": "code",
   "execution_count": 9,
   "id": "6880037b",
   "metadata": {},
   "outputs": [
    {
     "data": {
      "text/html": [
       "<div>\n",
       "<style scoped>\n",
       "    .dataframe tbody tr th:only-of-type {\n",
       "        vertical-align: middle;\n",
       "    }\n",
       "\n",
       "    .dataframe tbody tr th {\n",
       "        vertical-align: top;\n",
       "    }\n",
       "\n",
       "    .dataframe thead th {\n",
       "        text-align: right;\n",
       "    }\n",
       "</style>\n",
       "<table border=\"1\" class=\"dataframe\">\n",
       "  <thead>\n",
       "    <tr style=\"text-align: right;\">\n",
       "      <th></th>\n",
       "      <th>params</th>\n",
       "      <th>rank_test_score</th>\n",
       "      <th>mean_train_score</th>\n",
       "      <th>mean_test_score</th>\n",
       "    </tr>\n",
       "  </thead>\n",
       "  <tbody>\n",
       "    <tr>\n",
       "      <th>36</th>\n",
       "      <td>{'criterion': 'entropy', 'max_depth': None, 'm...</td>\n",
       "      <td>1</td>\n",
       "      <td>1.000000</td>\n",
       "      <td>0.995843</td>\n",
       "    </tr>\n",
       "    <tr>\n",
       "      <th>37</th>\n",
       "      <td>{'criterion': 'entropy', 'max_depth': None, 'm...</td>\n",
       "      <td>2</td>\n",
       "      <td>0.999791</td>\n",
       "      <td>0.995723</td>\n",
       "    </tr>\n",
       "    <tr>\n",
       "      <th>38</th>\n",
       "      <td>{'criterion': 'entropy', 'max_depth': None, 'm...</td>\n",
       "      <td>3</td>\n",
       "      <td>0.999284</td>\n",
       "      <td>0.995462</td>\n",
       "    </tr>\n",
       "    <tr>\n",
       "      <th>39</th>\n",
       "      <td>{'criterion': 'entropy', 'max_depth': None, 'm...</td>\n",
       "      <td>4</td>\n",
       "      <td>0.999437</td>\n",
       "      <td>0.995444</td>\n",
       "    </tr>\n",
       "    <tr>\n",
       "      <th>40</th>\n",
       "      <td>{'criterion': 'entropy', 'max_depth': None, 'm...</td>\n",
       "      <td>5</td>\n",
       "      <td>0.999384</td>\n",
       "      <td>0.995390</td>\n",
       "    </tr>\n",
       "    <tr>\n",
       "      <th>...</th>\n",
       "      <td>...</td>\n",
       "      <td>...</td>\n",
       "      <td>...</td>\n",
       "      <td>...</td>\n",
       "    </tr>\n",
       "    <tr>\n",
       "      <th>47</th>\n",
       "      <td>{'criterion': 'entropy', 'max_depth': 3, 'min_...</td>\n",
       "      <td>64</td>\n",
       "      <td>0.452366</td>\n",
       "      <td>0.452329</td>\n",
       "    </tr>\n",
       "    <tr>\n",
       "      <th>46</th>\n",
       "      <td>{'criterion': 'entropy', 'max_depth': 3, 'min_...</td>\n",
       "      <td>64</td>\n",
       "      <td>0.452366</td>\n",
       "      <td>0.452329</td>\n",
       "    </tr>\n",
       "    <tr>\n",
       "      <th>45</th>\n",
       "      <td>{'criterion': 'entropy', 'max_depth': 3, 'min_...</td>\n",
       "      <td>64</td>\n",
       "      <td>0.452366</td>\n",
       "      <td>0.452329</td>\n",
       "    </tr>\n",
       "    <tr>\n",
       "      <th>52</th>\n",
       "      <td>{'criterion': 'entropy', 'max_depth': 3, 'min_...</td>\n",
       "      <td>64</td>\n",
       "      <td>0.452366</td>\n",
       "      <td>0.452329</td>\n",
       "    </tr>\n",
       "    <tr>\n",
       "      <th>49</th>\n",
       "      <td>{'criterion': 'entropy', 'max_depth': 3, 'min_...</td>\n",
       "      <td>64</td>\n",
       "      <td>0.452366</td>\n",
       "      <td>0.452329</td>\n",
       "    </tr>\n",
       "  </tbody>\n",
       "</table>\n",
       "<p>72 rows × 4 columns</p>\n",
       "</div>"
      ],
      "text/plain": [
       "                                               params  rank_test_score  \\\n",
       "36  {'criterion': 'entropy', 'max_depth': None, 'm...                1   \n",
       "37  {'criterion': 'entropy', 'max_depth': None, 'm...                2   \n",
       "38  {'criterion': 'entropy', 'max_depth': None, 'm...                3   \n",
       "39  {'criterion': 'entropy', 'max_depth': None, 'm...                4   \n",
       "40  {'criterion': 'entropy', 'max_depth': None, 'm...                5   \n",
       "..                                                ...              ...   \n",
       "47  {'criterion': 'entropy', 'max_depth': 3, 'min_...               64   \n",
       "46  {'criterion': 'entropy', 'max_depth': 3, 'min_...               64   \n",
       "45  {'criterion': 'entropy', 'max_depth': 3, 'min_...               64   \n",
       "52  {'criterion': 'entropy', 'max_depth': 3, 'min_...               64   \n",
       "49  {'criterion': 'entropy', 'max_depth': 3, 'min_...               64   \n",
       "\n",
       "    mean_train_score  mean_test_score  \n",
       "36          1.000000         0.995843  \n",
       "37          0.999791         0.995723  \n",
       "38          0.999284         0.995462  \n",
       "39          0.999437         0.995444  \n",
       "40          0.999384         0.995390  \n",
       "..               ...              ...  \n",
       "47          0.452366         0.452329  \n",
       "46          0.452366         0.452329  \n",
       "45          0.452366         0.452329  \n",
       "52          0.452366         0.452329  \n",
       "49          0.452366         0.452329  \n",
       "\n",
       "[72 rows x 4 columns]"
      ]
     },
     "execution_count": 9,
     "metadata": {},
     "output_type": "execute_result"
    }
   ],
   "source": [
    "cv_result = pd.DataFrame(best_model.cv_results_)\n",
    "columns = ['params', 'rank_test_score', 'mean_train_score', 'mean_test_score']\n",
    "cv_result = cv_result[columns]\n",
    "cv_result.sort_values(by='rank_test_score')"
   ]
  },
  {
   "cell_type": "markdown",
   "id": "9ec4e7f4",
   "metadata": {},
   "source": [
    "## Best Hyperparameters Found\n",
    "\n",
    "Display the best hyperparameters found by GridSearchCV:\n"
   ]
  },
  {
   "cell_type": "code",
   "execution_count": 10,
   "id": "e36106dd",
   "metadata": {},
   "outputs": [
    {
     "name": "stdout",
     "output_type": "stream",
     "text": [
      "Best Hyperparameters:\n",
      "{'criterion': 'entropy', 'max_depth': None, 'min_samples_leaf': 1, 'min_samples_split': 2}\n",
      "\n",
      "Best Cross-Validation Accuracy: 0.9958\n"
     ]
    }
   ],
   "source": [
    "print(\"Best Hyperparameters:\")\n",
    "print(best_model.best_params_)\n",
    "print(f\"\\nBest Cross-Validation Accuracy: {best_model.best_score_:.4f}\")\n"
   ]
  },
  {
   "cell_type": "markdown",
   "id": "90464538",
   "metadata": {},
   "source": [
    "## Model Evaluation\n",
    "\n",
    "Evaluate the best model on the test set:\n"
   ]
  },
  {
   "cell_type": "code",
   "execution_count": 11,
   "id": "2eaeff86",
   "metadata": {},
   "outputs": [
    {
     "name": "stdout",
     "output_type": "stream",
     "text": [
      "Accuracy:  0.9970\n",
      "F1-Score:  0.9967\n",
      "Recall:    0.9967\n",
      "Precision: 0.9968\n"
     ]
    },
    {
     "data": {
      "text/html": [
       "<div>\n",
       "<style scoped>\n",
       "    .dataframe tbody tr th:only-of-type {\n",
       "        vertical-align: middle;\n",
       "    }\n",
       "\n",
       "    .dataframe tbody tr th {\n",
       "        vertical-align: top;\n",
       "    }\n",
       "\n",
       "    .dataframe thead th {\n",
       "        text-align: right;\n",
       "    }\n",
       "</style>\n",
       "<table border=\"1\" class=\"dataframe\">\n",
       "  <thead>\n",
       "    <tr style=\"text-align: right;\">\n",
       "      <th></th>\n",
       "      <th>Accuracy</th>\n",
       "      <th>F1_Score</th>\n",
       "      <th>Recall</th>\n",
       "      <th>Precision</th>\n",
       "    </tr>\n",
       "  </thead>\n",
       "  <tbody>\n",
       "    <tr>\n",
       "      <th>0</th>\n",
       "      <td>0.996971</td>\n",
       "      <td>0.996741</td>\n",
       "      <td>0.99668</td>\n",
       "      <td>0.996802</td>\n",
       "    </tr>\n",
       "  </tbody>\n",
       "</table>\n",
       "</div>"
      ],
      "text/plain": [
       "   Accuracy  F1_Score   Recall  Precision\n",
       "0  0.996971  0.996741  0.99668   0.996802"
      ]
     },
     "execution_count": 11,
     "metadata": {},
     "output_type": "execute_result"
    }
   ],
   "source": [
    "from sklearn.metrics import classification_report\n",
    "\n",
    "# Predict on test set\n",
    "y_test_hat = best_model.predict(X_test)\n",
    "\n",
    "# Calculate metrics\n",
    "compute_scores(y_test, y_test_hat, verbose=True)\n"
   ]
  },
  {
   "cell_type": "code",
   "execution_count": 12,
   "id": "a813b102",
   "metadata": {},
   "outputs": [
    {
     "name": "stdout",
     "output_type": "stream",
     "text": [
      "\n",
      "Detailed Classification Report:\n",
      "                      precision    recall  f1-score   support\n",
      "\n",
      "      Nordic walking       1.00      1.00      1.00     37621\n",
      "    ascending stairs       0.99      0.99      0.99     23443\n",
      "             cycling       1.00      1.00      1.00     32920\n",
      "   descending stairs       0.99      0.99      0.99     20989\n",
      "             ironing       1.00      1.00      1.00     47738\n",
      "               lying       1.00      1.00      1.00     38505\n",
      "        rope jumping       1.00      0.99      0.99      8594\n",
      "             running       1.00      1.00      1.00     19640\n",
      "             sitting       1.00      1.00      1.00     37038\n",
      "            standing       1.00      1.00      1.00     37986\n",
      "transient activities       1.00      1.00      1.00    185515\n",
      "     vacuum cleaning       1.00      1.00      1.00     35071\n",
      "             walking       1.00      1.00      1.00     47752\n",
      "\n",
      "            accuracy                           1.00    572812\n",
      "           macro avg       1.00      1.00      1.00    572812\n",
      "        weighted avg       1.00      1.00      1.00    572812\n",
      "\n"
     ]
    }
   ],
   "source": [
    "print(\"\\nDetailed Classification Report:\")\n",
    "print(classification_report(y_test, y_test_hat))"
   ]
  },
  {
   "cell_type": "markdown",
   "id": "b9efc1ac",
   "metadata": {},
   "source": [
    "## Summary\n",
    "\n",
    "The DecisionTreeClassifier was tuned using GridSearchCV with the following hyperparameter grid:\n",
    "- **max_depth**: [3, 5, 7, 10]\n",
    "- **min_samples_split**: [2, 5, 10]\n",
    "- **min_samples_leaf**: [1, 2, 4]\n",
    "- **criterion**: [\"gini\", \"entropy\"]\n",
    "\n",
    "This resulted in **72 candidate models** evaluated with **3-fold cross-validation** (216 total fits).\n",
    "\n",
    "The best model was selected based on accuracy and evaluated on the held-out test set above.\n"
   ]
  }
 ],
 "metadata": {
  "accelerator": "GPU",
  "colab": {
   "gpuType": "T4",
   "history_visible": true,
   "provenance": []
  },
  "kernelspec": {
   "display_name": "Python 3 (ipykernel)",
   "language": "python",
   "name": "python3"
  },
  "language_info": {
   "codemirror_mode": {
    "name": "ipython",
    "version": 3
   },
   "file_extension": ".py",
   "mimetype": "text/x-python",
   "name": "python",
   "nbconvert_exporter": "python",
   "pygments_lexer": "ipython3",
   "version": "3.10.0"
  }
 },
 "nbformat": 4,
 "nbformat_minor": 5
}
