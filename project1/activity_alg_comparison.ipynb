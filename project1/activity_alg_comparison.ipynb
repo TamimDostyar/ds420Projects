{
 "cells": [
  {
   "cell_type": "markdown",
   "id": "7835409b",
   "metadata": {},
   "source": [
    "# Activity Dataset Algorithm Comparisons\n",
    "\n",
    "### KNeighborsClassifier vs DecisionTreeClassifier"
   ]
  },
  {
   "cell_type": "markdown",
   "id": "66183f7c",
   "metadata": {},
   "source": [
    "Our top two models from agorithm investigation exceptionally outperformed their peers and kept each other in equal standing, each with an initial accuracy score of  97%. After performing GridSearches on these, the KNeighborsClassifier and DecisionTreeClassifier respectively, both models equally raised the bar, achieving accuracy scores of 99.6%. Let's examine these results a little closer..."
   ]
  },
  {
   "cell_type": "markdown",
   "id": "74f95a77",
   "metadata": {},
   "source": [
    "### Library"
   ]
  },
  {
   "cell_type": "code",
   "execution_count": 31,
   "id": "388a7339",
   "metadata": {},
   "outputs": [],
   "source": [
    "%reset -f\n",
    "\n",
    "import importlib\n",
    "import activity_functions\n",
    "importlib.reload(activity_functions)\n",
    "from activity_functions import *"
   ]
  },
  {
   "cell_type": "markdown",
   "id": "92f4b775",
   "metadata": {},
   "source": [
    "#### Get Scores from activity_KNeighborsClassifier"
   ]
  },
  {
   "cell_type": "code",
   "execution_count": 36,
   "id": "61c24377",
   "metadata": {},
   "outputs": [],
   "source": [
    "KNeighbors_scores, KNeighbors_report = get_KNeighbors_scores()"
   ]
  },
  {
   "cell_type": "markdown",
   "id": "bda3b51c",
   "metadata": {},
   "source": [
    "#### Get Scores from activity_DecisionTreeClassifier"
   ]
  },
  {
   "cell_type": "code",
   "execution_count": 33,
   "id": "31bc0a2c",
   "metadata": {},
   "outputs": [],
   "source": [
    "DecisionTree_scores, DecisionTree_report = get_DecisionTree_scores()"
   ]
  },
  {
   "cell_type": "markdown",
   "id": "d9a9ade7",
   "metadata": {},
   "source": [
    "### Compare Scores\n",
    "\n",
    "The tuned DecisionTreeClassifier performed slightly better than the KNeighborsClassifier. It was just 0.08% more accurate, and featured similarly higher scores in F1, Recall, and Precision."
   ]
  },
  {
   "cell_type": "code",
   "execution_count": 34,
   "id": "ae5cd83e",
   "metadata": {},
   "outputs": [
    {
     "name": "stdout",
     "output_type": "stream",
     "text": [
      "KNeighborsClassifier:\n",
      "       Accuracy  F1_Score    Recall  Precision\n",
      "0      0.996173  0.996299  0.996388   0.996213\n",
      "\n",
      "DecisionTreeClassifier:\n",
      "       Accuracy  F1_Score   Recall  Precision\n",
      "0      0.996971  0.996741  0.99668   0.996802\n"
     ]
    }
   ],
   "source": [
    "print('KNeighborsClassifier:')\n",
    "print(KNeighbors_scores)\n",
    "print('\\nDecisionTreeClassifier:')\n",
    "print(DecisionTree_scores)"
   ]
  },
  {
   "cell_type": "markdown",
   "id": "9fbaae27",
   "metadata": {},
   "source": [
    "### Compare Classification Reports\n",
    "\n",
    "Both models achieved near-perfect overall accuracy and performed almost identically across activities. The most challenging classes for both were _ascending stairs_ and _descending stairs_, likely because these activities share similar motion patterns with each other and with general _walking_.\n",
    "\n",
    "The main performance difference was that the DecisionTree slightly under-detected _rope jumping_ instances, while the KNeighbors model missed a small portion of _transient activities_. These patterns are reflected in the slightly lower recall scores for those respective classes."
   ]
  },
  {
   "cell_type": "code",
   "execution_count": 35,
   "id": "823d8239",
   "metadata": {},
   "outputs": [
    {
     "name": "stdout",
     "output_type": "stream",
     "text": [
      "KNeighborsClassifier:\n",
      "                      precision  recall  f1-score  support\n",
      "Nordic walking             1.00    1.00      1.00    37621\n",
      "ascending stairs           0.99    0.99      0.99    23443\n",
      "cycling                    1.00    1.00      1.00    32920\n",
      "descending stairs          0.99    0.98      0.99    20989\n",
      "ironing                    1.00    1.00      1.00    47738\n",
      "lying                      1.00    1.00      1.00    38505\n",
      "rope jumping               1.00    1.00      1.00     8594\n",
      "running                    1.00    1.00      1.00    19640\n",
      "sitting                    1.00    1.00      1.00    37038\n",
      "standing                   1.00    1.00      1.00    37986\n",
      "transient activities       1.00    0.99      0.99   185515\n",
      "vacuum cleaning            1.00    1.00      1.00    35071\n",
      "walking                    0.99    1.00      0.99    47752\n",
      "\n",
      "DecisionTreeClassifier:\n",
      "                      precision  recall  f1-score  support\n",
      "Nordic walking             1.00    1.00      1.00    37621\n",
      "ascending stairs           0.99    0.99      0.99    23443\n",
      "cycling                    1.00    1.00      1.00    32920\n",
      "descending stairs          0.99    0.99      0.99    20989\n",
      "ironing                    1.00    1.00      1.00    47738\n",
      "lying                      1.00    1.00      1.00    38505\n",
      "rope jumping               1.00    0.99      0.99     8594\n",
      "running                    1.00    1.00      1.00    19640\n",
      "sitting                    1.00    1.00      1.00    37038\n",
      "standing                   1.00    1.00      1.00    37986\n",
      "transient activities       1.00    1.00      1.00   185515\n",
      "vacuum cleaning            1.00    1.00      1.00    35071\n",
      "walking                    1.00    1.00      1.00    47752\n"
     ]
    }
   ],
   "source": [
    "print('KNeighborsClassifier:')\n",
    "print(KNeighbors_report)\n",
    "print('\\nDecisionTreeClassifier:')\n",
    "print(DecisionTree_report)"
   ]
  },
  {
   "cell_type": "markdown",
   "id": "50de92fb",
   "metadata": {},
   "source": [
    "### Conclusion\n",
    "\n",
    "Ultimately, both models achieved extremely high performance, but the DecisionTreeClassifier slightly outperformed the KNeighborsClassifier model across all key metrics, including accuracy, F1-score, recall, and precision. It also showed marginally better recall on challenging classes like rope jumping and transient activities. Given these consistent advantages, the DecisionTreeClassifier is the better choice for this recognizing activities from the activity dataset."
   ]
  }
 ],
 "metadata": {
  "kernelspec": {
   "display_name": "ds420",
   "language": "python",
   "name": "python3"
  },
  "language_info": {
   "codemirror_mode": {
    "name": "ipython",
    "version": 3
   },
   "file_extension": ".py",
   "mimetype": "text/x-python",
   "name": "python",
   "nbconvert_exporter": "python",
   "pygments_lexer": "ipython3",
   "version": "3.10.18"
  }
 },
 "nbformat": 4,
 "nbformat_minor": 5
}
