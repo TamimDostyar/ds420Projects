{
 "cells": [
  {
   "cell_type": "markdown",
   "id": "facffb77",
   "metadata": {},
   "source": [
    "# Activity Classification - KNeighborsClassifier Training\n",
    "\n",
    "This notebook trains a KNeighborsClassifier on the physical activity dataset using GridSearchCV for hyperparameter tuning.\n",
    "\n",
    "## Load Data and Prepare Training Set\n"
   ]
  },
  {
   "cell_type": "code",
   "execution_count": 2,
   "id": "ff38d94a",
   "metadata": {},
   "outputs": [],
   "source": [
    "%reset -f\n",
    "\n",
    "import importlib\n",
    "\n",
    "import activity_functions\n",
    "importlib.reload(activity_functions)\n",
    "from activity_functions import *"
   ]
  },
  {
   "cell_type": "code",
   "execution_count": 3,
   "id": "12c3a0d8",
   "metadata": {},
   "outputs": [
    {
     "name": "stdout",
     "output_type": "stream",
     "text": [
      "Loaded from Kaggle: /Users/tamimdostyar/.cache/kagglehub/datasets/diegosilvadefrana/fisical-activity-dataset/versions/4/dataset2.csv\n"
     ]
    }
   ],
   "source": [
    "activtity = load_data()"
   ]
  },
  {
   "cell_type": "code",
   "execution_count": 4,
   "id": "55e9353f",
   "metadata": {},
   "outputs": [
    {
     "name": "stdout",
     "output_type": "stream",
     "text": [
      "(2291244, 33)\n",
      "(572812, 33)\n"
     ]
    }
   ],
   "source": [
    "df_train, df_test = create_train_test(activtity, test_ratio=0.2)\n",
    "print(df_train.shape)\n",
    "print(df_test.shape)"
   ]
  },
  {
   "cell_type": "code",
   "execution_count": 5,
   "id": "12d5a027",
   "metadata": {},
   "outputs": [],
   "source": [
    "X_train, y_train, X_test, y_test = prepare_for_train(df_train, df_test)"
   ]
  },
  {
   "cell_type": "markdown",
   "id": "487ac9f0",
   "metadata": {},
   "source": [
    "## Hyperparameter Tuning with GridSearchCV"
   ]
  },
  {
   "cell_type": "code",
   "execution_count": 6,
   "id": "c25ba622",
   "metadata": {},
   "outputs": [
    {
     "name": "stdout",
     "output_type": "stream",
     "text": [
      "Fitting 3 folds for each of 30 candidates, totalling 90 fits\n"
     ]
    },
    {
     "name": "stderr",
     "output_type": "stream",
     "text": [
      "Traceback (most recent call last):\n",
      "  File \"<frozen importlib._bootstrap>\", line 188, in _get_module_lock\n",
      "KeyError: 'numpy.lib.ufunclike'\n",
      "\n",
      "During handling of the above exception, another exception occurred:\n",
      "\n",
      "Traceback (most recent call last):\n",
      "  File \"/opt/anaconda3/envs/DS420/lib/python3.10/runpy.py\", line 187, in _run_module_as_main\n",
      "Exception ignored in: <module 'collections.abc' from '/opt/anaconda3/envs/DS420/lib/python3.10/collections/abc.py'>\n",
      "Traceback (most recent call last):\n",
      "  File \"<string>\", line 1, in <module>\n",
      "KeyboardInterrupt: \n",
      "<frozen importlib._bootstrap>:241: RuntimeWarning: Cython module failed to patch module with custom type\n",
      "    mod_name, mod_spec, code = _get_module_details(mod_name, _Error)\n",
      "  File \"/opt/anaconda3/envs/DS420/lib/python3.10/runpy.py\", line 110, in _get_module_details\n",
      "    __import__(pkg_name)\n",
      "  File \"/opt/anaconda3/envs/DS420/lib/python3.10/site-packages/joblib/__init__.py\", line 115, in <module>\n",
      "Traceback (most recent call last):\n",
      "  File \"/opt/anaconda3/envs/DS420/lib/python3.10/runpy.py\", line 187, in _run_module_as_main\n",
      "Traceback (most recent call last):\n",
      "  File \"/opt/anaconda3/envs/DS420/lib/python3.10/runpy.py\", line 187, in _run_module_as_main\n",
      "    mod_name, mod_spec, code = _get_module_details(mod_name, _Error)\n",
      "  File \"/opt/anaconda3/envs/DS420/lib/python3.10/runpy.py\", line 110, in _get_module_details\n",
      "    __import__(pkg_name)\n",
      "  File \"/opt/anaconda3/envs/DS420/lib/python3.10/site-packages/joblib/__init__.py\", line 115, in <module>\n",
      "    from ._parallel_backends import ParallelBackendBase\n",
      "  File \"/opt/anaconda3/envs/DS420/lib/python3.10/site-packages/joblib/_parallel_backends.py\", line 21, in <module>\n",
      "    mod_name, mod_spec, code = _get_module_details(mod_name, _Error)\n",
      "  File \"/opt/anaconda3/envs/DS420/lib/python3.10/runpy.py\", line 110, in _get_module_details\n",
      "Traceback (most recent call last):\n",
      "  File \"/opt/anaconda3/envs/DS420/lib/python3.10/runpy.py\", line 187, in _run_module_as_main\n",
      "    from ._parallel_backends import ParallelBackendBase\n",
      "  File \"/opt/anaconda3/envs/DS420/lib/python3.10/site-packages/joblib/_parallel_backends.py\", line 21, in <module>\n",
      "Traceback (most recent call last):\n",
      "  File \"/opt/anaconda3/envs/DS420/lib/python3.10/runpy.py\", line 187, in _run_module_as_main\n",
      "    mod_name, mod_spec, code = _get_module_details(mod_name, _Error)\n",
      "  File \"/opt/anaconda3/envs/DS420/lib/python3.10/runpy.py\", line 110, in _get_module_details\n",
      "Traceback (most recent call last):\n",
      "  File \"/opt/anaconda3/envs/DS420/lib/python3.10/runpy.py\", line 187, in _run_module_as_main\n",
      "    __import__(pkg_name)\n",
      "  File \"/opt/anaconda3/envs/DS420/lib/python3.10/site-packages/joblib/__init__.py\", line 115, in <module>\n",
      "    __import__(pkg_name)\n",
      "  File \"/opt/anaconda3/envs/DS420/lib/python3.10/site-packages/joblib/__init__.py\", line 115, in <module>\n",
      "    mod_name, mod_spec, code = _get_module_details(mod_name, _Error)\n",
      "  File \"/opt/anaconda3/envs/DS420/lib/python3.10/runpy.py\", line 110, in _get_module_details\n",
      "    mod_name, mod_spec, code = _get_module_details(mod_name, _Error)\n",
      "  File \"/opt/anaconda3/envs/DS420/lib/python3.10/runpy.py\", line 110, in _get_module_details\n",
      "    __import__(pkg_name)\n",
      "      File \"/opt/anaconda3/envs/DS420/lib/python3.10/site-packages/joblib/__init__.py\", line 115, in <module>\n",
      "from ._parallel_backends import ParallelBackendBase\n",
      "  File \"/opt/anaconda3/envs/DS420/lib/python3.10/site-packages/joblib/_parallel_backends.py\", line 21, in <module>\n",
      "    __import__(pkg_name)\n",
      "  File \"/opt/anaconda3/envs/DS420/lib/python3.10/site-packages/joblib/__init__.py\", line 115, in <module>\n",
      "Traceback (most recent call last):\n",
      "  File \"/opt/anaconda3/envs/DS420/lib/python3.10/runpy.py\", line 187, in _run_module_as_main\n",
      "    from ._parallel_backends import ParallelBackendBase\n",
      "  File \"/opt/anaconda3/envs/DS420/lib/python3.10/site-packages/joblib/_parallel_backends.py\", line 21, in <module>\n",
      "    from ._parallel_backends import ParallelBackendBase\n",
      "  File \"/opt/anaconda3/envs/DS420/lib/python3.10/site-packages/joblib/_parallel_backends.py\", line 21, in <module>\n",
      "    from ._parallel_backends import ParallelBackendBase    \n",
      "mod_name, mod_spec, code = _get_module_details(mod_name, _Error)\n",
      "  File \"/opt/anaconda3/envs/DS420/lib/python3.10/site-packages/joblib/_parallel_backends.py\", line 21, in <module>\n",
      "  File \"/opt/anaconda3/envs/DS420/lib/python3.10/runpy.py\", line 110, in _get_module_details\n",
      "    __import__(pkg_name)\n",
      "  File \"/opt/anaconda3/envs/DS420/lib/python3.10/site-packages/joblib/__init__.py\", line 115, in <module>\n",
      "    from ._parallel_backends import ParallelBackendBase\n",
      "  File \"/opt/anaconda3/envs/DS420/lib/python3.10/site-packages/joblib/_parallel_backends.py\", line 21, in <module>\n",
      "    from .executor import get_memmapping_executor\n",
      "  File \"/opt/anaconda3/envs/DS420/lib/python3.10/site-packages/joblib/executor.py\", line 11, in <module>\n",
      "    from .executor import get_memmapping_executor\n",
      "  File \"/opt/anaconda3/envs/DS420/lib/python3.10/site-packages/joblib/executor.py\", line 11, in <module>\n",
      "    from .executor import get_memmapping_executor\n",
      "  File \"/opt/anaconda3/envs/DS420/lib/python3.10/site-packages/joblib/executor.py\", line 11, in <module>\n",
      "    from .executor import get_memmapping_executor\n",
      "  File \"/opt/anaconda3/envs/DS420/lib/python3.10/site-packages/joblib/executor.py\", line 11, in <module>\n",
      "    from .executor import get_memmapping_executor\n",
      "  File \"/opt/anaconda3/envs/DS420/lib/python3.10/site-packages/joblib/executor.py\", line 11, in <module>\n",
      "    from .executor import get_memmapping_executor\n",
      "  File \"/opt/anaconda3/envs/DS420/lib/python3.10/site-packages/joblib/executor.py\", line 11, in <module>\n",
      "    from .executor import get_memmapping_executor\n",
      "  File \"/opt/anaconda3/envs/DS420/lib/python3.10/site-packages/joblib/executor.py\", line 11, in <module>\n",
      "    from ._memmapping_reducer import TemporaryResourcesManager, get_memmapping_reducers\n",
      "  File \"/opt/anaconda3/envs/DS420/lib/python3.10/site-packages/joblib/_memmapping_reducer.py\", line 28, in <module>\n",
      "    from ._memmapping_reducer import TemporaryResourcesManager, get_memmapping_reducers\n",
      "  File \"/opt/anaconda3/envs/DS420/lib/python3.10/site-packages/joblib/_memmapping_reducer.py\", line 28, in <module>\n",
      "    from ._memmapping_reducer import TemporaryResourcesManager, get_memmapping_reducers\n",
      "  File \"/opt/anaconda3/envs/DS420/lib/python3.10/site-packages/joblib/_memmapping_reducer.py\", line 28, in <module>\n",
      "    from ._memmapping_reducer import TemporaryResourcesManager, get_memmapping_reducers\n",
      "    from ._memmapping_reducer import TemporaryResourcesManager, get_memmapping_reducers\n",
      "  File \"/opt/anaconda3/envs/DS420/lib/python3.10/site-packages/joblib/_memmapping_reducer.py\", line 28, in <module>\n",
      "  File \"/opt/anaconda3/envs/DS420/lib/python3.10/site-packages/joblib/_memmapping_reducer.py\", line 28, in <module>\n",
      "    from ._memmapping_reducer import TemporaryResourcesManager, get_memmapping_reducers\n",
      "  File \"/opt/anaconda3/envs/DS420/lib/python3.10/site-packages/joblib/_memmapping_reducer.py\", line 28, in <module>\n",
      "    from ._memmapping_reducer import TemporaryResourcesManager, get_memmapping_reducers\n",
      "  File \"/opt/anaconda3/envs/DS420/lib/python3.10/site-packages/joblib/_memmapping_reducer.py\", line 28, in <module>\n",
      "    import numpy as np\n",
      "  File \"/opt/anaconda3/envs/DS420/lib/python3.10/site-packages/numpy/__init__.py\", line 149, in <module>\n",
      "    import numpy as np\n",
      "  File \"/opt/anaconda3/envs/DS420/lib/python3.10/site-packages/numpy/__init__.py\", line 149, in <module>\n",
      "    import numpy as np\n",
      "  File \"/opt/anaconda3/envs/DS420/lib/python3.10/site-packages/numpy/__init__.py\", line 149, in <module>\n",
      "    import numpy as np\n",
      "  File \"/opt/anaconda3/envs/DS420/lib/python3.10/site-packages/numpy/__init__.py\", line 149, in <module>\n",
      "    import numpy as np\n",
      "  File \"/opt/anaconda3/envs/DS420/lib/python3.10/site-packages/numpy/__init__.py\", line 157, in <module>\n",
      "    import numpy as np\n",
      "  File \"/opt/anaconda3/envs/DS420/lib/python3.10/site-packages/numpy/__init__.py\", line 149, in <module>\n",
      "    import numpy as np\n",
      "  File \"/opt/anaconda3/envs/DS420/lib/python3.10/site-packages/numpy/__init__.py\", line 149, in <module>\n",
      "    from . import lib\n",
      "  File \"/opt/anaconda3/envs/DS420/lib/python3.10/site-packages/numpy/lib/__init__.py\", line 18, in <module>\n",
      "    from . import lib\n",
      "  File \"/opt/anaconda3/envs/DS420/lib/python3.10/site-packages/numpy/lib/__init__.py\", line 31, in <module>\n",
      "    from . import lib\n",
      "  File \"/opt/anaconda3/envs/DS420/lib/python3.10/site-packages/numpy/lib/__init__.py\", line 23, in <module>\n",
      "    from . import lib\n",
      "  File \"/opt/anaconda3/envs/DS420/lib/python3.10/site-packages/numpy/lib/__init__.py\", line 23, in <module>\n",
      "    from . import lib\n",
      "  File \"/opt/anaconda3/envs/DS420/lib/python3.10/site-packages/numpy/lib/__init__.py\", line 75, in <module>\n",
      "    from . import lib\n",
      "  File \"/opt/anaconda3/envs/DS420/lib/python3.10/site-packages/numpy/lib/__init__.py\", line 32, in <module>\n",
      "    from . import random\n",
      "  File \"/opt/anaconda3/envs/DS420/lib/python3.10/site-packages/numpy/random/__init__.py\", line 180, in <module>\n",
      "    test = PytestTester(__name__)\n",
      "  File \"/opt/anaconda3/envs/DS420/lib/python3.10/site-packages/numpy/_pytesttester.py\", line 76, in __init__\n",
      "    from . import _pickle\n",
      "  File \"/opt/anaconda3/envs/DS420/lib/python3.10/site-packages/numpy/random/_pickle.py\", line 1, in <module>\n",
      "    from . import scimath as emath\n",
      "    from . import index_tricks  File \"/opt/anaconda3/envs/DS420/lib/python3.10/site-packages/numpy/lib/scimath.py\", line 37, in <module>\n",
      "\n",
      "  File \"/opt/anaconda3/envs/DS420/lib/python3.10/site-packages/numpy/lib/index_tricks.py\", line 12, in <module>\n",
      "    from . import polynomial\n",
      "  File \"/opt/anaconda3/envs/DS420/lib/python3.10/site-packages/numpy/lib/polynomial.py\", line 1078, in <module>\n",
      "    from . import index_tricks\n",
      "  File \"/opt/anaconda3/envs/DS420/lib/python3.10/site-packages/numpy/lib/index_tricks.py\", line 12, in <module>\n",
      "    from . import utils\n",
      "  File \"/opt/anaconda3/envs/DS420/lib/python3.10/site-packages/numpy/lib/utils.py\", line 3, in <module>\n",
      "    import numpy.matrixlib as matrixlib\n",
      "  File \"/opt/anaconda3/envs/DS420/lib/python3.10/site-packages/numpy/matrixlib/__init__.py\", line 4, in <module>\n",
      "    import numpy.matrixlib as matrixlib\n",
      "  File \"/opt/anaconda3/envs/DS420/lib/python3.10/site-packages/numpy/matrixlib/__init__.py\", line 4, in <module>\n",
      "    from .mtrand import RandomState\n",
      "  File \"numpy/random/mtrand.pyx\", line 1, in init numpy.random.mtrand\n",
      "  File \"bit_generator.pyx\", line 40, in init numpy.random.bit_generator\n",
      "      File \"/opt/anaconda3/envs/DS420/lib/python3.10/secrets.py\", line 15, in <module>\n",
      "def __init__(self, module_name):\n",
      "KeyboardInterrupt\n",
      "    import textwrap    from . import defmatrix\n",
      "      File \"/opt/anaconda3/envs/DS420/lib/python3.10/site-packages/numpy/matrixlib/defmatrix.py\", line 12, in <module>\n",
      "from . import defmatrix\n",
      "  File \"/opt/anaconda3/envs/DS420/lib/python3.10/site-packages/numpy/matrixlib/defmatrix.py\", line 12, in <module>\n",
      "    from numpy.lib.type_check import isreal\n",
      "  File \"/opt/anaconda3/envs/DS420/lib/python3.10/site-packages/numpy/lib/type_check.py\", line 15, in <module>\n",
      "\n",
      "  File \"<frozen importlib._bootstrap>\", line 1024, in _find_and_load\n",
      "  File \"<frozen importlib._bootstrap>\", line 174, in __exit__\n",
      "  File \"<frozen importlib._bootstrap>\", line 125, in release\n",
      "KeyboardInterrupt\n",
      "    from numpy.linalg import matrix_power\n",
      "    from numpy.linalg import matrix_power\n",
      "  File \"/opt/anaconda3/envs/DS420/lib/python3.10/site-packages/numpy/linalg/__init__.py\", line 73, in <module>\n",
      "  File \"/opt/anaconda3/envs/DS420/lib/python3.10/site-packages/numpy/linalg/__init__.py\", line 73, in <module>\n",
      "    from .ufunclike import isneginf, isposinf\n",
      "  File \"<frozen importlib._bootstrap>\", line 1024, in _find_and_load\n",
      "  File \"<frozen importlib._bootstrap>\", line 170, in __enter__\n",
      "  File \"<frozen importlib._bootstrap>\", line 188, in _get_module_lock\n",
      "KeyboardInterrupt\n",
      "    import base64\n",
      "  File \"/opt/anaconda3/envs/DS420/lib/python3.10/base64.py\", line 11, in <module>\n",
      "    class poly1d:\n",
      "KeyboardInterrupt\n",
      "    from . import linalg\n",
      "  File \"/opt/anaconda3/envs/DS420/lib/python3.10/site-packages/numpy/linalg/linalg.py\", line 37, in <module>\n",
      "    from . import linalg\n",
      "  File \"/opt/anaconda3/envs/DS420/lib/python3.10/site-packages/numpy/linalg/linalg.py\", line 570, in <module>\n",
      "    import binascii\n",
      "KeyboardInterrupt\n",
      "    from numpy._typing import NDArray\n",
      "  File \"/opt/anaconda3/envs/DS420/lib/python3.10/site-packages/numpy/_typing/__init__.py\", line 182, in <module>\n",
      "    def matrix_power(a, n):\n",
      "  File \"/opt/anaconda3/envs/DS420/lib/python3.10/site-packages/numpy/core/overrides.py\", line 161, in decorator\n",
      "    public_api = functools.wraps(implementation)(public_api)\n",
      "  File \"/opt/anaconda3/envs/DS420/lib/python3.10/functools.py\", line 52, in update_wrapper\n",
      "    from ._array_like import (\n",
      "  File \"/opt/anaconda3/envs/DS420/lib/python3.10/site-packages/numpy/_typing/_array_like.py\", line 108, in <module>\n",
      "    _ArrayLikeFloat_co = _DualArrayLike[\n",
      "  File \"/opt/anaconda3/envs/DS420/lib/python3.10/typing.py\", line 309, in inner\n",
      "    return cached(*args, **kwds)\n",
      "  File \"/opt/anaconda3/envs/DS420/lib/python3.10/typing.py\", line 1081, in __getitem__\n",
      "    value = getattr(wrapped, attr)\n",
      "KeyboardInterrupt\n",
      "    return self.copy_with(tuple(new_args))\n",
      "  File \"/opt/anaconda3/envs/DS420/lib/python3.10/typing.py\", line 1240, in copy_with\n",
      "    return Union[params]\n",
      "  File \"/opt/anaconda3/envs/DS420/lib/python3.10/typing.py\", line 309, in inner\n",
      "    return cached(*args, **kwds)\n",
      "  File \"/opt/anaconda3/envs/DS420/lib/python3.10/typing.py\", line 403, in __getitem__\n",
      "    return self._getitem(self, parameters)\n",
      "  File \"/opt/anaconda3/envs/DS420/lib/python3.10/typing.py\", line 521, in Union\n",
      "    return _UnionGenericAlias(self, parameters)\n",
      "  File \"/opt/anaconda3/envs/DS420/lib/python3.10/typing.py\", line 1020, in __init__\n",
      "    if not isinstance(params, tuple):\n",
      "KeyboardInterrupt\n"
     ]
    },
    {
     "ename": "KeyboardInterrupt",
     "evalue": "",
     "output_type": "error",
     "traceback": [
      "\u001b[0;31m---------------------------------------------------------------------------\u001b[0m",
      "\u001b[0;31mKeyboardInterrupt\u001b[0m                         Traceback (most recent call last)",
      "Cell \u001b[0;32mIn[6], line 24\u001b[0m\n\u001b[1;32m     22\u001b[0m     grid\u001b[38;5;241m.\u001b[39mfit(X, y)\n\u001b[1;32m     23\u001b[0m     \u001b[38;5;28;01mreturn\u001b[39;00m grid\n\u001b[0;32m---> 24\u001b[0m best_model \u001b[38;5;241m=\u001b[39m \u001b[43mgrid_searchCV\u001b[49m\u001b[43m(\u001b[49m\u001b[43mX_train\u001b[49m\u001b[43m,\u001b[49m\u001b[43m \u001b[49m\u001b[43my_train\u001b[49m\u001b[43m)\u001b[49m\n",
      "Cell \u001b[0;32mIn[6], line 22\u001b[0m, in \u001b[0;36mgrid_searchCV\u001b[0;34m(X, y)\u001b[0m\n\u001b[1;32m      6\u001b[0m param \u001b[38;5;241m=\u001b[39m {\n\u001b[1;32m      7\u001b[0m     \u001b[38;5;124m\"\u001b[39m\u001b[38;5;124mn_neighbors\u001b[39m\u001b[38;5;124m\"\u001b[39m: [\u001b[38;5;241m3\u001b[39m, \u001b[38;5;241m5\u001b[39m, \u001b[38;5;241m7\u001b[39m, \u001b[38;5;241m9\u001b[39m, \u001b[38;5;241m11\u001b[39m],\n\u001b[1;32m      8\u001b[0m     \u001b[38;5;124m\"\u001b[39m\u001b[38;5;124mweights\u001b[39m\u001b[38;5;124m\"\u001b[39m: [\u001b[38;5;124m\"\u001b[39m\u001b[38;5;124muniform\u001b[39m\u001b[38;5;124m\"\u001b[39m, \u001b[38;5;124m\"\u001b[39m\u001b[38;5;124mdistance\u001b[39m\u001b[38;5;124m\"\u001b[39m],\n\u001b[1;32m      9\u001b[0m     \u001b[38;5;124m\"\u001b[39m\u001b[38;5;124mmetric\u001b[39m\u001b[38;5;124m\"\u001b[39m: [\u001b[38;5;124m\"\u001b[39m\u001b[38;5;124meuclidean\u001b[39m\u001b[38;5;124m\"\u001b[39m, \u001b[38;5;124m\"\u001b[39m\u001b[38;5;124mmanhattan\u001b[39m\u001b[38;5;124m\"\u001b[39m, \u001b[38;5;124m\"\u001b[39m\u001b[38;5;124mminkowski\u001b[39m\u001b[38;5;124m\"\u001b[39m]\n\u001b[1;32m     10\u001b[0m }\n\u001b[1;32m     12\u001b[0m grid \u001b[38;5;241m=\u001b[39m GridSearchCV(\n\u001b[1;32m     13\u001b[0m     model,\n\u001b[1;32m     14\u001b[0m     param,\n\u001b[0;32m   (...)\u001b[0m\n\u001b[1;32m     19\u001b[0m     n_jobs\u001b[38;5;241m=\u001b[39m\u001b[38;5;241m-\u001b[39m\u001b[38;5;241m1\u001b[39m\n\u001b[1;32m     20\u001b[0m )\n\u001b[0;32m---> 22\u001b[0m \u001b[43mgrid\u001b[49m\u001b[38;5;241;43m.\u001b[39;49m\u001b[43mfit\u001b[49m\u001b[43m(\u001b[49m\u001b[43mX\u001b[49m\u001b[43m,\u001b[49m\u001b[43m \u001b[49m\u001b[43my\u001b[49m\u001b[43m)\u001b[49m\n\u001b[1;32m     23\u001b[0m \u001b[38;5;28;01mreturn\u001b[39;00m grid\n",
      "File \u001b[0;32m/opt/anaconda3/envs/DS420/lib/python3.10/site-packages/sklearn/base.py:1365\u001b[0m, in \u001b[0;36m_fit_context.<locals>.decorator.<locals>.wrapper\u001b[0;34m(estimator, *args, **kwargs)\u001b[0m\n\u001b[1;32m   1358\u001b[0m     estimator\u001b[38;5;241m.\u001b[39m_validate_params()\n\u001b[1;32m   1360\u001b[0m \u001b[38;5;28;01mwith\u001b[39;00m config_context(\n\u001b[1;32m   1361\u001b[0m     skip_parameter_validation\u001b[38;5;241m=\u001b[39m(\n\u001b[1;32m   1362\u001b[0m         prefer_skip_nested_validation \u001b[38;5;129;01mor\u001b[39;00m global_skip_validation\n\u001b[1;32m   1363\u001b[0m     )\n\u001b[1;32m   1364\u001b[0m ):\n\u001b[0;32m-> 1365\u001b[0m     \u001b[38;5;28;01mreturn\u001b[39;00m \u001b[43mfit_method\u001b[49m\u001b[43m(\u001b[49m\u001b[43mestimator\u001b[49m\u001b[43m,\u001b[49m\u001b[43m \u001b[49m\u001b[38;5;241;43m*\u001b[39;49m\u001b[43margs\u001b[49m\u001b[43m,\u001b[49m\u001b[43m \u001b[49m\u001b[38;5;241;43m*\u001b[39;49m\u001b[38;5;241;43m*\u001b[39;49m\u001b[43mkwargs\u001b[49m\u001b[43m)\u001b[49m\n",
      "File \u001b[0;32m/opt/anaconda3/envs/DS420/lib/python3.10/site-packages/sklearn/model_selection/_search.py:1051\u001b[0m, in \u001b[0;36mBaseSearchCV.fit\u001b[0;34m(self, X, y, **params)\u001b[0m\n\u001b[1;32m   1045\u001b[0m     results \u001b[38;5;241m=\u001b[39m \u001b[38;5;28mself\u001b[39m\u001b[38;5;241m.\u001b[39m_format_results(\n\u001b[1;32m   1046\u001b[0m         all_candidate_params, n_splits, all_out, all_more_results\n\u001b[1;32m   1047\u001b[0m     )\n\u001b[1;32m   1049\u001b[0m     \u001b[38;5;28;01mreturn\u001b[39;00m results\n\u001b[0;32m-> 1051\u001b[0m \u001b[38;5;28;43mself\u001b[39;49m\u001b[38;5;241;43m.\u001b[39;49m\u001b[43m_run_search\u001b[49m\u001b[43m(\u001b[49m\u001b[43mevaluate_candidates\u001b[49m\u001b[43m)\u001b[49m\n\u001b[1;32m   1053\u001b[0m \u001b[38;5;66;03m# multimetric is determined here because in the case of a callable\u001b[39;00m\n\u001b[1;32m   1054\u001b[0m \u001b[38;5;66;03m# self.scoring the return type is only known after calling\u001b[39;00m\n\u001b[1;32m   1055\u001b[0m first_test_score \u001b[38;5;241m=\u001b[39m all_out[\u001b[38;5;241m0\u001b[39m][\u001b[38;5;124m\"\u001b[39m\u001b[38;5;124mtest_scores\u001b[39m\u001b[38;5;124m\"\u001b[39m]\n",
      "File \u001b[0;32m/opt/anaconda3/envs/DS420/lib/python3.10/site-packages/sklearn/model_selection/_search.py:1605\u001b[0m, in \u001b[0;36mGridSearchCV._run_search\u001b[0;34m(self, evaluate_candidates)\u001b[0m\n\u001b[1;32m   1603\u001b[0m \u001b[38;5;28;01mdef\u001b[39;00m\u001b[38;5;250m \u001b[39m\u001b[38;5;21m_run_search\u001b[39m(\u001b[38;5;28mself\u001b[39m, evaluate_candidates):\n\u001b[1;32m   1604\u001b[0m \u001b[38;5;250m    \u001b[39m\u001b[38;5;124;03m\"\"\"Search all candidates in param_grid\"\"\"\u001b[39;00m\n\u001b[0;32m-> 1605\u001b[0m     \u001b[43mevaluate_candidates\u001b[49m\u001b[43m(\u001b[49m\u001b[43mParameterGrid\u001b[49m\u001b[43m(\u001b[49m\u001b[38;5;28;43mself\u001b[39;49m\u001b[38;5;241;43m.\u001b[39;49m\u001b[43mparam_grid\u001b[49m\u001b[43m)\u001b[49m\u001b[43m)\u001b[49m\n",
      "File \u001b[0;32m/opt/anaconda3/envs/DS420/lib/python3.10/site-packages/sklearn/model_selection/_search.py:997\u001b[0m, in \u001b[0;36mBaseSearchCV.fit.<locals>.evaluate_candidates\u001b[0;34m(candidate_params, cv, more_results)\u001b[0m\n\u001b[1;32m    989\u001b[0m \u001b[38;5;28;01mif\u001b[39;00m \u001b[38;5;28mself\u001b[39m\u001b[38;5;241m.\u001b[39mverbose \u001b[38;5;241m>\u001b[39m \u001b[38;5;241m0\u001b[39m:\n\u001b[1;32m    990\u001b[0m     \u001b[38;5;28mprint\u001b[39m(\n\u001b[1;32m    991\u001b[0m         \u001b[38;5;124m\"\u001b[39m\u001b[38;5;124mFitting \u001b[39m\u001b[38;5;132;01m{0}\u001b[39;00m\u001b[38;5;124m folds for each of \u001b[39m\u001b[38;5;132;01m{1}\u001b[39;00m\u001b[38;5;124m candidates,\u001b[39m\u001b[38;5;124m\"\u001b[39m\n\u001b[1;32m    992\u001b[0m         \u001b[38;5;124m\"\u001b[39m\u001b[38;5;124m totalling \u001b[39m\u001b[38;5;132;01m{2}\u001b[39;00m\u001b[38;5;124m fits\u001b[39m\u001b[38;5;124m\"\u001b[39m\u001b[38;5;241m.\u001b[39mformat(\n\u001b[1;32m    993\u001b[0m             n_splits, n_candidates, n_candidates \u001b[38;5;241m*\u001b[39m n_splits\n\u001b[1;32m    994\u001b[0m         )\n\u001b[1;32m    995\u001b[0m     )\n\u001b[0;32m--> 997\u001b[0m out \u001b[38;5;241m=\u001b[39m \u001b[43mparallel\u001b[49m\u001b[43m(\u001b[49m\n\u001b[1;32m    998\u001b[0m \u001b[43m    \u001b[49m\u001b[43mdelayed\u001b[49m\u001b[43m(\u001b[49m\u001b[43m_fit_and_score\u001b[49m\u001b[43m)\u001b[49m\u001b[43m(\u001b[49m\n\u001b[1;32m    999\u001b[0m \u001b[43m        \u001b[49m\u001b[43mclone\u001b[49m\u001b[43m(\u001b[49m\u001b[43mbase_estimator\u001b[49m\u001b[43m)\u001b[49m\u001b[43m,\u001b[49m\n\u001b[1;32m   1000\u001b[0m \u001b[43m        \u001b[49m\u001b[43mX\u001b[49m\u001b[43m,\u001b[49m\n\u001b[1;32m   1001\u001b[0m \u001b[43m        \u001b[49m\u001b[43my\u001b[49m\u001b[43m,\u001b[49m\n\u001b[1;32m   1002\u001b[0m \u001b[43m        \u001b[49m\u001b[43mtrain\u001b[49m\u001b[38;5;241;43m=\u001b[39;49m\u001b[43mtrain\u001b[49m\u001b[43m,\u001b[49m\n\u001b[1;32m   1003\u001b[0m \u001b[43m        \u001b[49m\u001b[43mtest\u001b[49m\u001b[38;5;241;43m=\u001b[39;49m\u001b[43mtest\u001b[49m\u001b[43m,\u001b[49m\n\u001b[1;32m   1004\u001b[0m \u001b[43m        \u001b[49m\u001b[43mparameters\u001b[49m\u001b[38;5;241;43m=\u001b[39;49m\u001b[43mparameters\u001b[49m\u001b[43m,\u001b[49m\n\u001b[1;32m   1005\u001b[0m \u001b[43m        \u001b[49m\u001b[43msplit_progress\u001b[49m\u001b[38;5;241;43m=\u001b[39;49m\u001b[43m(\u001b[49m\u001b[43msplit_idx\u001b[49m\u001b[43m,\u001b[49m\u001b[43m \u001b[49m\u001b[43mn_splits\u001b[49m\u001b[43m)\u001b[49m\u001b[43m,\u001b[49m\n\u001b[1;32m   1006\u001b[0m \u001b[43m        \u001b[49m\u001b[43mcandidate_progress\u001b[49m\u001b[38;5;241;43m=\u001b[39;49m\u001b[43m(\u001b[49m\u001b[43mcand_idx\u001b[49m\u001b[43m,\u001b[49m\u001b[43m \u001b[49m\u001b[43mn_candidates\u001b[49m\u001b[43m)\u001b[49m\u001b[43m,\u001b[49m\n\u001b[1;32m   1007\u001b[0m \u001b[43m        \u001b[49m\u001b[38;5;241;43m*\u001b[39;49m\u001b[38;5;241;43m*\u001b[39;49m\u001b[43mfit_and_score_kwargs\u001b[49m\u001b[43m,\u001b[49m\n\u001b[1;32m   1008\u001b[0m \u001b[43m    \u001b[49m\u001b[43m)\u001b[49m\n\u001b[1;32m   1009\u001b[0m \u001b[43m    \u001b[49m\u001b[38;5;28;43;01mfor\u001b[39;49;00m\u001b[43m \u001b[49m\u001b[43m(\u001b[49m\u001b[43mcand_idx\u001b[49m\u001b[43m,\u001b[49m\u001b[43m \u001b[49m\u001b[43mparameters\u001b[49m\u001b[43m)\u001b[49m\u001b[43m,\u001b[49m\u001b[43m \u001b[49m\u001b[43m(\u001b[49m\u001b[43msplit_idx\u001b[49m\u001b[43m,\u001b[49m\u001b[43m \u001b[49m\u001b[43m(\u001b[49m\u001b[43mtrain\u001b[49m\u001b[43m,\u001b[49m\u001b[43m \u001b[49m\u001b[43mtest\u001b[49m\u001b[43m)\u001b[49m\u001b[43m)\u001b[49m\u001b[43m \u001b[49m\u001b[38;5;129;43;01min\u001b[39;49;00m\u001b[43m \u001b[49m\u001b[43mproduct\u001b[49m\u001b[43m(\u001b[49m\n\u001b[1;32m   1010\u001b[0m \u001b[43m        \u001b[49m\u001b[38;5;28;43menumerate\u001b[39;49m\u001b[43m(\u001b[49m\u001b[43mcandidate_params\u001b[49m\u001b[43m)\u001b[49m\u001b[43m,\u001b[49m\n\u001b[1;32m   1011\u001b[0m \u001b[43m        \u001b[49m\u001b[38;5;28;43menumerate\u001b[39;49m\u001b[43m(\u001b[49m\u001b[43mcv\u001b[49m\u001b[38;5;241;43m.\u001b[39;49m\u001b[43msplit\u001b[49m\u001b[43m(\u001b[49m\u001b[43mX\u001b[49m\u001b[43m,\u001b[49m\u001b[43m \u001b[49m\u001b[43my\u001b[49m\u001b[43m,\u001b[49m\u001b[43m \u001b[49m\u001b[38;5;241;43m*\u001b[39;49m\u001b[38;5;241;43m*\u001b[39;49m\u001b[43mrouted_params\u001b[49m\u001b[38;5;241;43m.\u001b[39;49m\u001b[43msplitter\u001b[49m\u001b[38;5;241;43m.\u001b[39;49m\u001b[43msplit\u001b[49m\u001b[43m)\u001b[49m\u001b[43m)\u001b[49m\u001b[43m,\u001b[49m\n\u001b[1;32m   1012\u001b[0m \u001b[43m    \u001b[49m\u001b[43m)\u001b[49m\n\u001b[1;32m   1013\u001b[0m \u001b[43m\u001b[49m\u001b[43m)\u001b[49m\n\u001b[1;32m   1015\u001b[0m \u001b[38;5;28;01mif\u001b[39;00m \u001b[38;5;28mlen\u001b[39m(out) \u001b[38;5;241m<\u001b[39m \u001b[38;5;241m1\u001b[39m:\n\u001b[1;32m   1016\u001b[0m     \u001b[38;5;28;01mraise\u001b[39;00m \u001b[38;5;167;01mValueError\u001b[39;00m(\n\u001b[1;32m   1017\u001b[0m         \u001b[38;5;124m\"\u001b[39m\u001b[38;5;124mNo fits were performed. \u001b[39m\u001b[38;5;124m\"\u001b[39m\n\u001b[1;32m   1018\u001b[0m         \u001b[38;5;124m\"\u001b[39m\u001b[38;5;124mWas the CV iterator empty? \u001b[39m\u001b[38;5;124m\"\u001b[39m\n\u001b[1;32m   1019\u001b[0m         \u001b[38;5;124m\"\u001b[39m\u001b[38;5;124mWere there no candidates?\u001b[39m\u001b[38;5;124m\"\u001b[39m\n\u001b[1;32m   1020\u001b[0m     )\n",
      "File \u001b[0;32m/opt/anaconda3/envs/DS420/lib/python3.10/site-packages/sklearn/utils/parallel.py:82\u001b[0m, in \u001b[0;36mParallel.__call__\u001b[0;34m(self, iterable)\u001b[0m\n\u001b[1;32m     73\u001b[0m warning_filters \u001b[38;5;241m=\u001b[39m warnings\u001b[38;5;241m.\u001b[39mfilters\n\u001b[1;32m     74\u001b[0m iterable_with_config_and_warning_filters \u001b[38;5;241m=\u001b[39m (\n\u001b[1;32m     75\u001b[0m     (\n\u001b[1;32m     76\u001b[0m         _with_config_and_warning_filters(delayed_func, config, warning_filters),\n\u001b[0;32m   (...)\u001b[0m\n\u001b[1;32m     80\u001b[0m     \u001b[38;5;28;01mfor\u001b[39;00m delayed_func, args, kwargs \u001b[38;5;129;01min\u001b[39;00m iterable\n\u001b[1;32m     81\u001b[0m )\n\u001b[0;32m---> 82\u001b[0m \u001b[38;5;28;01mreturn\u001b[39;00m \u001b[38;5;28;43msuper\u001b[39;49m\u001b[43m(\u001b[49m\u001b[43m)\u001b[49m\u001b[38;5;241;43m.\u001b[39;49m\u001b[38;5;21;43m__call__\u001b[39;49m\u001b[43m(\u001b[49m\u001b[43miterable_with_config_and_warning_filters\u001b[49m\u001b[43m)\u001b[49m\n",
      "File \u001b[0;32m/opt/anaconda3/envs/DS420/lib/python3.10/site-packages/joblib/parallel.py:2072\u001b[0m, in \u001b[0;36mParallel.__call__\u001b[0;34m(self, iterable)\u001b[0m\n\u001b[1;32m   2066\u001b[0m \u001b[38;5;66;03m# The first item from the output is blank, but it makes the interpreter\u001b[39;00m\n\u001b[1;32m   2067\u001b[0m \u001b[38;5;66;03m# progress until it enters the Try/Except block of the generator and\u001b[39;00m\n\u001b[1;32m   2068\u001b[0m \u001b[38;5;66;03m# reaches the first `yield` statement. This starts the asynchronous\u001b[39;00m\n\u001b[1;32m   2069\u001b[0m \u001b[38;5;66;03m# dispatch of the tasks to the workers.\u001b[39;00m\n\u001b[1;32m   2070\u001b[0m \u001b[38;5;28mnext\u001b[39m(output)\n\u001b[0;32m-> 2072\u001b[0m \u001b[38;5;28;01mreturn\u001b[39;00m output \u001b[38;5;28;01mif\u001b[39;00m \u001b[38;5;28mself\u001b[39m\u001b[38;5;241m.\u001b[39mreturn_generator \u001b[38;5;28;01melse\u001b[39;00m \u001b[38;5;28;43mlist\u001b[39;49m\u001b[43m(\u001b[49m\u001b[43moutput\u001b[49m\u001b[43m)\u001b[49m\n",
      "File \u001b[0;32m/opt/anaconda3/envs/DS420/lib/python3.10/site-packages/joblib/parallel.py:1682\u001b[0m, in \u001b[0;36mParallel._get_outputs\u001b[0;34m(self, iterator, pre_dispatch)\u001b[0m\n\u001b[1;32m   1679\u001b[0m     \u001b[38;5;28;01myield\u001b[39;00m\n\u001b[1;32m   1681\u001b[0m     \u001b[38;5;28;01mwith\u001b[39;00m \u001b[38;5;28mself\u001b[39m\u001b[38;5;241m.\u001b[39m_backend\u001b[38;5;241m.\u001b[39mretrieval_context():\n\u001b[0;32m-> 1682\u001b[0m         \u001b[38;5;28;01myield from\u001b[39;00m \u001b[38;5;28mself\u001b[39m\u001b[38;5;241m.\u001b[39m_retrieve()\n\u001b[1;32m   1684\u001b[0m \u001b[38;5;28;01mexcept\u001b[39;00m \u001b[38;5;167;01mGeneratorExit\u001b[39;00m:\n\u001b[1;32m   1685\u001b[0m     \u001b[38;5;66;03m# The generator has been garbage collected before being fully\u001b[39;00m\n\u001b[1;32m   1686\u001b[0m     \u001b[38;5;66;03m# consumed. This aborts the remaining tasks if possible and warn\u001b[39;00m\n\u001b[1;32m   1687\u001b[0m     \u001b[38;5;66;03m# the user if necessary.\u001b[39;00m\n\u001b[1;32m   1688\u001b[0m     \u001b[38;5;28mself\u001b[39m\u001b[38;5;241m.\u001b[39m_exception \u001b[38;5;241m=\u001b[39m \u001b[38;5;28;01mTrue\u001b[39;00m\n",
      "File \u001b[0;32m/opt/anaconda3/envs/DS420/lib/python3.10/site-packages/joblib/parallel.py:1800\u001b[0m, in \u001b[0;36mParallel._retrieve\u001b[0;34m(self)\u001b[0m\n\u001b[1;32m   1789\u001b[0m \u001b[38;5;28;01mif\u001b[39;00m \u001b[38;5;28mself\u001b[39m\u001b[38;5;241m.\u001b[39mreturn_ordered:\n\u001b[1;32m   1790\u001b[0m     \u001b[38;5;66;03m# Case ordered: wait for completion (or error) of the next job\u001b[39;00m\n\u001b[1;32m   1791\u001b[0m     \u001b[38;5;66;03m# that have been dispatched and not retrieved yet. If no job\u001b[39;00m\n\u001b[0;32m   (...)\u001b[0m\n\u001b[1;32m   1795\u001b[0m     \u001b[38;5;66;03m# control only have to be done on the amount of time the next\u001b[39;00m\n\u001b[1;32m   1796\u001b[0m     \u001b[38;5;66;03m# dispatched job is pending.\u001b[39;00m\n\u001b[1;32m   1797\u001b[0m     \u001b[38;5;28;01mif\u001b[39;00m (nb_jobs \u001b[38;5;241m==\u001b[39m \u001b[38;5;241m0\u001b[39m) \u001b[38;5;129;01mor\u001b[39;00m (\n\u001b[1;32m   1798\u001b[0m         \u001b[38;5;28mself\u001b[39m\u001b[38;5;241m.\u001b[39m_jobs[\u001b[38;5;241m0\u001b[39m]\u001b[38;5;241m.\u001b[39mget_status(timeout\u001b[38;5;241m=\u001b[39m\u001b[38;5;28mself\u001b[39m\u001b[38;5;241m.\u001b[39mtimeout) \u001b[38;5;241m==\u001b[39m TASK_PENDING\n\u001b[1;32m   1799\u001b[0m     ):\n\u001b[0;32m-> 1800\u001b[0m         \u001b[43mtime\u001b[49m\u001b[38;5;241;43m.\u001b[39;49m\u001b[43msleep\u001b[49m\u001b[43m(\u001b[49m\u001b[38;5;241;43m0.01\u001b[39;49m\u001b[43m)\u001b[49m\n\u001b[1;32m   1801\u001b[0m         \u001b[38;5;28;01mcontinue\u001b[39;00m\n\u001b[1;32m   1803\u001b[0m \u001b[38;5;28;01melif\u001b[39;00m nb_jobs \u001b[38;5;241m==\u001b[39m \u001b[38;5;241m0\u001b[39m:\n\u001b[1;32m   1804\u001b[0m     \u001b[38;5;66;03m# Case unordered: jobs are added to the list of jobs to\u001b[39;00m\n\u001b[1;32m   1805\u001b[0m     \u001b[38;5;66;03m# retrieve `self._jobs` only once completed or in error, which\u001b[39;00m\n\u001b[0;32m   (...)\u001b[0m\n\u001b[1;32m   1811\u001b[0m     \u001b[38;5;66;03m# timeouts before any other dispatched job has completed and\u001b[39;00m\n\u001b[1;32m   1812\u001b[0m     \u001b[38;5;66;03m# been added to `self._jobs` to be retrieved.\u001b[39;00m\n",
      "\u001b[0;31mKeyboardInterrupt\u001b[0m: "
     ]
    }
   ],
   "source": [
    "from sklearn.neighbors import KNeighborsClassifier\n",
    "from sklearn.model_selection import GridSearchCV\n",
    "\n",
    "def grid_searchCV(X, y):\n",
    "    model = KNeighborsClassifier()\n",
    "    param = {\n",
    "        \"n_neighbors\": [3, 5, 7, 9, 11],\n",
    "        \"weights\": [\"uniform\", \"distance\"],\n",
    "        \"metric\": [\"euclidean\", \"manhattan\", \"minkowski\"]\n",
    "    }\n",
    "\n",
    "    grid = GridSearchCV(\n",
    "        model,\n",
    "        param,\n",
    "        verbose=1,\n",
    "        refit=True,\n",
    "        cv=3,\n",
    "        scoring='accuracy',\n",
    "        n_jobs=-1\n",
    "    )\n",
    "\n",
    "    grid.fit(X, y)\n",
    "    return grid\n",
    "best_model = grid_searchCV(X_train, y_train)"
   ]
  },
  {
   "cell_type": "code",
   "execution_count": null,
   "id": "90a31e07",
   "metadata": {},
   "outputs": [],
   "source": [
    "cv_result = pd.DataFrame(best_model.cv_results_)\n",
    "columns = ['params', 'rank_test_score', 'mean_train_score', 'mean_test_score']\n",
    "cv_result = cv_result[columns]\n",
    "cv_result.sort_values(by='rank_test_score')"
   ]
  },
  {
   "cell_type": "markdown",
   "id": "86dbb4f6",
   "metadata": {},
   "source": [
    "## Best Hyperparameters Found\n",
    "\n",
    "Display the best hyperparameters found by GridSearchCV:\n"
   ]
  },
  {
   "cell_type": "code",
   "execution_count": null,
   "id": "f1bd495c",
   "metadata": {},
   "outputs": [],
   "source": [
    "print(\"Best Hyperparameters:\")\n",
    "print(best_model.best_params_)\n",
    "print(f\"\\nBest Cross-Validation Accuracy: {best_model.best_score_:.4f}\")\n"
   ]
  },
  {
   "cell_type": "markdown",
   "id": "408f4c0a",
   "metadata": {},
   "source": [
    "## Model Evaluation\n",
    "\n",
    "Evaluate the best model on the test set:\n"
   ]
  },
  {
   "cell_type": "code",
   "execution_count": null,
   "id": "874e1abd",
   "metadata": {},
   "outputs": [],
   "source": [
    "from sklearn.metrics import accuracy_score, f1_score, recall_score, precision_score, classification_report\n",
    "\n",
    "# Predict on test set\n",
    "y_test_hat = best_model.predict(X_test)\n",
    "\n",
    "# Calculate metrics\n",
    "compute_scores(y_test, y_test_hat, verbose=True)\n"
   ]
  },
  {
   "cell_type": "code",
   "execution_count": null,
   "id": "ba59f567",
   "metadata": {},
   "outputs": [],
   "source": [
    "print(\"\\nDetailed Classification Report:\")\n",
    "print(classification_report(y_test, y_test_hat))\n"
   ]
  },
  {
   "cell_type": "markdown",
   "id": "1d6a9127",
   "metadata": {},
   "source": [
    "## Summary\n",
    "\n",
    "The KNeighborsClassifier was tuned using GridSearchCV with the following hyperparameter grid:\n",
    "- **n_neighbors**: [3, 5, 7, 9, 11]\n",
    "- **weights**: [\"uniform\", \"distance\"]\n",
    "- **metric**: [\"euclidean\", \"manhattan\", \"minkowski\"]\n",
    "\n",
    "This resulted in **30 candidate models** evaluated with **3-fold cross-validation** (90 total fits).\n",
    "\n",
    "The best model was selected based on accuracy and evaluated on the held-out test set above.\n"
   ]
  },
  {
   "cell_type": "markdown",
   "id": "821f22c6",
   "metadata": {},
   "source": []
  }
 ],
 "metadata": {
  "kernelspec": {
   "display_name": "DS420",
   "language": "python",
   "name": "python3"
  },
  "language_info": {
   "codemirror_mode": {
    "name": "ipython",
    "version": 3
   },
   "file_extension": ".py",
   "mimetype": "text/x-python",
   "name": "python",
   "nbconvert_exporter": "python",
   "pygments_lexer": "ipython3",
   "version": "3.10.18"
  }
 },
 "nbformat": 4,
 "nbformat_minor": 5
}
